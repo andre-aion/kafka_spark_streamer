{
 "cells": [
  {
   "cell_type": "code",
   "execution_count": 8,
   "metadata": {},
   "outputs": [
    {
     "name": "stdout",
     "output_type": "stream",
     "text": [
      "{   'blockTime': 'int64',\n",
      "    'difficulty': 'int64',\n",
      "    'minerAddress': 'object',\n",
      "    'nrgConsumed': 'int64',\n",
      "    'nrgLimit': 'int64',\n",
      "    'number': 'int64',\n",
      "    'size': 'int64'}\n",
      "105.48 MB\n",
      "147.20 MB\n"
     ]
    }
   ],
   "source": [
    "import pandas as pd\n",
    "import pprint\n",
    "# os methods for manipulating paths\n",
    "from os.path import dirname, join\n",
    "\n",
    "# Bokeh basics\n",
    "from bokeh.io import curdoc\n",
    "from bokeh.models.widgets import Tabs\n",
    "\n",
    "def mem_usage(pandas_obj):\n",
    "    if isinstance(pandas_obj,pd.DataFrame):\n",
    "        usage_b = pandas_obj.memory_usage(deep=True).sum()\n",
    "    else: # we assume if not a df it's a series\n",
    "        usage_b = pandas_obj.memory_usage(deep=True)\n",
    "    usage_mb = usage_b / 1024 ** 2 # convert bytes to megabytes\n",
    "    return \"{:03.2f} MB\".format(usage_mb)\n",
    "\n",
    "# Each tab is drawn by one script\n",
    "#from scripts.sentiment import sentiment_dashboard\n",
    "\n",
    "# Read data into dataframes\n",
    "df_blockdetails = pd.read_csv('data/blockdetails.csv')\n",
    "dtypes = df_blockdetails.drop('timestamp',axis=1).dtypes\n",
    "dtypes_col = dtypes.index\n",
    "dtypes_type = [i.name for i in dtypes.values]\n",
    "column_types = dict(zip(dtypes_col, dtypes_type))\n",
    "\n",
    "preview = first2pairs = {key:value for key,value in list(column_types.items())}\n",
    "pp = pp = pprint.PrettyPrinter(indent=4)\n",
    "pp.pprint(preview)\n",
    "\n",
    "read_and_optimized = pd.read_csv('data/blockdetails.csv',dtype=column_types,parse_dates=['timestamp'],infer_datetime_format=True)\n",
    "\n",
    "print(mem_usage(read_and_optimized))\n",
    "print(mem_usage(df_blockdetails))"
   ]
  }
 ],
 "metadata": {
  "kernelspec": {
   "display_name": "Python 3",
   "language": "python",
   "name": "python3"
  },
  "language_info": {
   "codemirror_mode": {
    "name": "ipython",
    "version": 3
   },
   "file_extension": ".py",
   "mimetype": "text/x-python",
   "name": "python",
   "nbconvert_exporter": "python",
   "pygments_lexer": "ipython3",
   "version": "3.6.6"
  },
  "toc": {
   "base_numbering": 1,
   "nav_menu": {},
   "number_sections": true,
   "sideBar": true,
   "skip_h1_title": false,
   "title_cell": "Table of Contents",
   "title_sidebar": "Contents",
   "toc_cell": false,
   "toc_position": {},
   "toc_section_display": true,
   "toc_window_display": false
  }
 },
 "nbformat": 4,
 "nbformat_minor": 2
}
