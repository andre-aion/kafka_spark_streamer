{
 "cells": [
  {
   "cell_type": "code",
   "execution_count": 5,
   "metadata": {},
   "outputs": [],
   "source": [
    "import pandas as pd\n",
    "import zlib\n",
    "import redis\n",
    "import pickle"
   ]
  },
  {
   "cell_type": "code",
   "execution_count": 6,
   "metadata": {},
   "outputs": [
    {
     "data": {
      "text/plain": [
       "True"
      ]
     },
     "execution_count": 6,
     "metadata": {},
     "output_type": "execute_result"
    }
   ],
   "source": [
    "# SAVE TO REDIS\n",
    "dct = {}\n",
    "dct['x'] = [range(1,100)]\n",
    "dct['y'] = dct['x']\n",
    "df = pd.DataFrame.from_dict(dct)\n",
    "conn = redis.StrictRedis(host='localhost',\n",
    "                        port=6379)\n",
    "EXPIRATION_SECONDS = 86400\n",
    "key = 'test:2018-06-02:2018-07-02'\n",
    "conn.setex(name=key,value=zlib.compress(pickle.dumps(df)), time=EXPIRATION_SECONDS)"
   ]
  },
  {
   "cell_type": "code",
   "execution_count": 10,
   "metadata": {},
   "outputs": [
    {
     "name": "stdout",
     "output_type": "stream",
     "text": [
      "inside matches\n",
      "b'test:2018-06-02:2018-07-02'\n",
      "['test', '2018-06-02', '2018-07-02']\n"
     ]
    }
   ],
   "source": [
    "# LOAD FROM REDIS\n",
    "str_to_match = '*test*'\n",
    "matches = conn.scan_iter(match=str_to_match)\n",
    "if matches:\n",
    "    print(\"inside matches\")\n",
    "    for match in matches:\n",
    "        print(str(match))\n",
    "        lst = str(match,'utf-8').split(':')\n",
    "        print(lst)"
   ]
  },
  {
   "cell_type": "code",
   "execution_count": null,
   "metadata": {},
   "outputs": [],
   "source": []
  }
 ],
 "metadata": {
  "kernelspec": {
   "display_name": "Python 3",
   "language": "python",
   "name": "python3"
  },
  "language_info": {
   "codemirror_mode": {
    "name": "ipython",
    "version": 3
   },
   "file_extension": ".py",
   "mimetype": "text/x-python",
   "name": "python",
   "nbconvert_exporter": "python",
   "pygments_lexer": "ipython3",
   "version": "3.5.5"
  },
  "toc": {
   "base_numbering": 1,
   "nav_menu": {},
   "number_sections": true,
   "sideBar": true,
   "skip_h1_title": false,
   "title_cell": "Table of Contents",
   "title_sidebar": "Contents",
   "toc_cell": false,
   "toc_position": {},
   "toc_section_display": true,
   "toc_window_display": false
  }
 },
 "nbformat": 4,
 "nbformat_minor": 2
}
